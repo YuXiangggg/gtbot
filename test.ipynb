{
 "cells": [
  {
   "cell_type": "code",
   "execution_count": 2,
   "metadata": {},
   "outputs": [
    {
     "ename": "ModuleNotFoundError",
     "evalue": "No module named 'pyautogui'",
     "output_type": "error",
     "traceback": [
      "\u001b[0;31m---------------------------------------------------------------------------\u001b[0m",
      "\u001b[0;31mModuleNotFoundError\u001b[0m                       Traceback (most recent call last)",
      "Cell \u001b[0;32mIn [2], line 1\u001b[0m\n\u001b[0;32m----> 1\u001b[0m \u001b[39mimport\u001b[39;00m \u001b[39mpyautogui\u001b[39;00m \u001b[39mas\u001b[39;00m \u001b[39mgui\u001b[39;00m\n\u001b[1;32m      2\u001b[0m \u001b[39m#random numbers\u001b[39;00m\n\u001b[1;32m      3\u001b[0m a \u001b[39m=\u001b[39m gui\u001b[39m.\u001b[39mPoint(\u001b[39m156\u001b[39m,\u001b[39m69\u001b[39m)\n",
      "\u001b[0;31mModuleNotFoundError\u001b[0m: No module named 'pyautogui'"
     ]
    }
   ],
   "source": [
    "import pyautogui as gui\n",
    "#random numbers\n",
    "a = gui.Point(156,69)\n",
    "b = gui.Point(123,167)\n",
    "c = gui.Point(163,426)\n",
    "\n",
    "\n",
    "#can use\n",
    "with open(\"settings.txt\", 'w') as f:\n",
    "        sa = \"&\".join([str(a.x),str(a.y)])\n",
    "        sb = \"&\".join([str(b.x),str(b.y)])\n",
    "        sc = \"&\".join([str(c.x),str(c.y)])\n",
    "        f.write(\",\".join([sa,sb,sc]) + \"\\n\")\n",
    "        "
   ]
  },
  {
   "cell_type": "code",
   "execution_count": null,
   "metadata": {},
   "outputs": [],
   "source": [
    "import pyautogui as gui\n",
    "a = gui.Point(69,69)\n",
    "b = gui.Point(123,123)\n",
    "\n",
    "with open(\"settings.txt\", 'a') as f:\n",
    "        sa = \"&\".join([str(a.x),str(a.y)])\n",
    "        sb = \"&\".join([str(b.x),str(b.y)])\n",
    "        f.write(\",\".join([sa,sb]))"
   ]
  },
  {
   "cell_type": "code",
   "execution_count": null,
   "metadata": {},
   "outputs": [],
   "source": [
    "import pyautogui as gui\n",
    "\n",
    "with open(\"settings.txt\",\"r\") as f:\n",
    "    settings = f.readlines()\n",
    "    for line in settings:\n",
    "        for pos in line.split(\",\"):\n",
    "            print(pos)\n",
    "            x = int(pos.split(\"&\")[0])\n",
    "            y = int(pos.split(\"&\")[1])\n",
    "            print(x,y)\n",
    "            print(gui.Point(x,y))\n",
    "        \n",
    "# print(gui.Point(sa[0],sa[1]))"
   ]
  }
 ],
 "metadata": {
  "kernelspec": {
   "display_name": "Python 3.9.6 64-bit",
   "language": "python",
   "name": "python3"
  },
  "language_info": {
   "codemirror_mode": {
    "name": "ipython",
    "version": 3
   },
   "file_extension": ".py",
   "mimetype": "text/x-python",
   "name": "python",
   "nbconvert_exporter": "python",
   "pygments_lexer": "ipython3",
   "version": "3.9.6"
  },
  "orig_nbformat": 4,
  "vscode": {
   "interpreter": {
    "hash": "31f2aee4e71d21fbe5cf8b01ff0e069b9275f58929596ceb00d14d90e3e16cd6"
   }
  }
 },
 "nbformat": 4,
 "nbformat_minor": 2
}
