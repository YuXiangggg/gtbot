{
 "cells": [
  {
   "cell_type": "code",
   "execution_count": null,
   "metadata": {},
   "outputs": [],
   "source": [
    "import pyautogui as gui\n",
    "#random numbers\n",
    "a = gui.Point(156,69)\n",
    "b = gui.Point(123,167)\n",
    "c = gui.Point(163,426)\n",
    "\n",
    "\n",
    "#can use\n",
    "with open(\"settings.txt\", 'w') as f:\n",
    "        sa = \"&\".join([str(a.x),str(a.y)])\n",
    "        sb = \"&\".join([str(b.x),str(b.y)])\n",
    "        sc = \"&\".join([str(c.x),str(c.y)])\n",
    "        f.write(\",\".join([sa,sb,sc]) + \"\\n\")"
   ]
  },
  {
   "cell_type": "code",
   "execution_count": null,
   "metadata": {},
   "outputs": [],
   "source": [
    "import pyautogui as gui\n",
    "a = gui.Point(69,69)\n",
    "b = gui.Point(123,123)\n",
    "\n",
    "with open(\"settings.txt\", 'a') as f:\n",
    "        sa = \"&\".join([str(a.x),str(a.y)])\n",
    "        sb = \"&\".join([str(b.x),str(b.y)])\n",
    "        f.write(\",\".join([sa,sb]))"
   ]
  },
  {
   "cell_type": "code",
   "execution_count": null,
   "metadata": {},
   "outputs": [],
   "source": [
    "import pyautogui as gui\n",
    "\n",
    "with open(\"settings.txt\",\"r\") as f:\n",
    "    settings = f.readlines()\n",
    "    for line in settings:\n",
    "        for pos in line.split(\",\"):\n",
    "            print(pos)\n",
    "            x = int(pos.split(\"&\")[0])\n",
    "            y = int(pos.split(\"&\")[1])\n",
    "            print(x,y)\n",
    "            print(gui.Point(x,y))\n",
    "        \n",
    "# print(gui.Point(sa[0],sa[1]))"
   ]
  }
 ],
 "metadata": {
  "kernelspec": {
   "display_name": "Python 3.7.9 64-bit",
   "language": "python",
   "name": "python3"
  },
  "language_info": {
   "name": "python",
   "version": "3.7.9"
  },
  "orig_nbformat": 4,
  "vscode": {
   "interpreter": {
    "hash": "dc9b72b283e85be2c2abb47889901eb0bcdc74ba3f0073a81aaaa41c67e89900"
   }
  }
 },
 "nbformat": 4,
 "nbformat_minor": 2
}
